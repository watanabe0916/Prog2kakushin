{
  "nbformat": 4,
  "nbformat_minor": 0,
  "metadata": {
    "colab": {
      "provenance": [],
      "authorship_tag": "ABX9TyNtvMcygo3RLe9xcKuqV0QR",
      "include_colab_link": true
    },
    "kernelspec": {
      "name": "python3",
      "display_name": "Python 3"
    },
    "language_info": {
      "name": "python"
    }
  },
  "cells": [
    {
      "cell_type": "markdown",
      "metadata": {
        "id": "view-in-github",
        "colab_type": "text"
      },
      "source": [
        "<a href=\"https://colab.research.google.com/github/watanabe0916/Prog2kakushin/blob/main/work1.ipynb\" target=\"_parent\"><img src=\"https://colab.research.google.com/assets/colab-badge.svg\" alt=\"Open In Colab\"/></a>"
      ]
    },
    {
      "cell_type": "markdown",
      "source": [
        "pandasを用いたプログラムを作成する"
      ],
      "metadata": {
        "id": "Yiqig72szdDZ"
      }
    },
    {
      "cell_type": "code",
      "source": [
        "import random\n",
        "import pandas as pd\n",
        "df=pd.read_excel('Prog.xlsx')\n",
        "l=[0,1,2,3,4,5]\n",
        "w = [0.23,0.10,0.13,0.24,0.19,0.11]\n",
        "r=random.choices(l,weights=w)\n",
        "print(*df['kuji'][r])\n",
        "df2=pd.read_excel('Prog.xlsx',sheet_name='Sheet2')\n",
        "l2=list(range(11))\n",
        "s=random.sample(l2,11)\n",
        "for i in range(11):\n",
        "  if i<=10-r[0]*2:\n",
        "    print(df2['内容'][s[i]],df2['〇'][s[i]])\n",
        "  else:\n",
        "    print(df2['内容'][s[i]],df2['×'][s[i]])\n",
        "\n",
        "\n",
        "\n",
        "\n",
        "\n"
      ],
      "metadata": {
        "colab": {
          "base_uri": "https://localhost:8080/"
        },
        "id": "WunPL9XAI9CY",
        "outputId": "96868b99-9407-4050-9778-d4a7145bcc9d"
      },
      "execution_count": 167,
      "outputs": [
        {
          "output_type": "stream",
          "name": "stdout",
          "text": [
            "吉\n",
            "転居 してよし\n",
            "失物 見つかる\n",
            "商売 得する\n",
            "待人 来る\n",
            "金運 良い\n",
            "恋愛 うまくいかない\n",
            "旅行 待て\n",
            "仕事 うまくいかない\n",
            "願望 叶わない\n",
            "健康 病気に気をつけよ\n",
            "交渉 失敗\n"
          ]
        }
      ]
    }
  ]
}