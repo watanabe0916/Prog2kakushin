{
  "nbformat": 4,
  "nbformat_minor": 0,
  "metadata": {
    "colab": {
      "provenance": [],
      "authorship_tag": "ABX9TyNNrBMZRmpKt3U2xKosBr8A",
      "include_colab_link": true
    },
    "kernelspec": {
      "name": "python3",
      "display_name": "Python 3"
    },
    "language_info": {
      "name": "python"
    }
  },
  "cells": [
    {
      "cell_type": "markdown",
      "metadata": {
        "id": "view-in-github",
        "colab_type": "text"
      },
      "source": [
        "<a href=\"https://colab.research.google.com/github/watanabe0916/Prog2kakushin/blob/main/work1.ipynb\" target=\"_parent\"><img src=\"https://colab.research.google.com/assets/colab-badge.svg\" alt=\"Open In Colab\"/></a>"
      ]
    },
    {
      "cell_type": "markdown",
      "source": [
        "pandasを用いたプログラムを作成する"
      ],
      "metadata": {
        "id": "Yiqig72szdDZ"
      }
    },
    {
      "cell_type": "code",
      "source": [
        "!wget \"C:\\Users\\wtnbk\\Downloads\\Prog.xlsx\""
      ],
      "metadata": {
        "colab": {
          "base_uri": "https://localhost:8080/"
        },
        "id": "G7qijsgJ-kqY",
        "outputId": "c07d2000-d1fe-4311-aa3c-5e6c73c4bfdb"
      },
      "execution_count": 169,
      "outputs": [
        {
          "output_type": "stream",
          "name": "stdout",
          "text": [
            "--2022-12-22 08:40:36--  ftp://c/%5CUsers%5Cwtnbk%5CDownloads%5CProg.xlsx\n",
            "           => ‘\\\\Users\\\\wtnbk\\\\Downloads\\\\Prog.xlsx’\n",
            "Resolving c (c)... failed: Name or service not known.\n",
            "wget: unable to resolve host address ‘c’\n"
          ]
        }
      ]
    },
    {
      "cell_type": "code",
      "source": [
        "import random\n",
        "import pandas as pd\n",
        "df=pd.read_excel('Prog.xlsx')\n",
        "l=[0,1,2,3,4,5]\n",
        "w = [0.23,0.10,0.13,0.24,0.19,0.11]\n",
        "r=random.choices(l,weights=w)\n",
        "print(*df['kuji'][r])\n",
        "df2=pd.read_excel('Prog.xlsx',sheet_name='Sheet2')\n",
        "l2=list(range(11))\n",
        "s=random.sample(l2,11)\n",
        "for i in range(11):\n",
        "  if i<=10-r[0]*2:\n",
        "    print(df2['内容'][s[i]],df2['〇'][s[i]])\n",
        "  else:\n",
        "    print(df2['内容'][s[i]],df2['×'][s[i]])\n",
        "\n",
        "\n",
        "\n",
        "\n",
        "\n"
      ],
      "metadata": {
        "colab": {
          "base_uri": "https://localhost:8080/"
        },
        "id": "WunPL9XAI9CY",
        "outputId": "39423d44-07ec-40f0-dfa6-beae17b58b57"
      },
      "execution_count": 170,
      "outputs": [
        {
          "output_type": "stream",
          "name": "stdout",
          "text": [
            "末吉\n",
            "金運 良い\n",
            "転居 してよし\n",
            "仕事 うまくいく\n",
            "商売 損する\n",
            "恋愛 うまくいかない\n",
            "健康 病気に気をつけよ\n",
            "交渉 失敗\n",
            "失物 見つからない\n",
            "願望 叶わない\n",
            "旅行 待て\n",
            "待人 来ない\n"
          ]
        }
      ]
    }
  ]
}