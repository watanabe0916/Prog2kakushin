{
  "nbformat": 4,
  "nbformat_minor": 0,
  "metadata": {
    "colab": {
      "provenance": [],
      "authorship_tag": "ABX9TyNxjAaQDtp26xKsGgWVoNVA",
      "include_colab_link": true
    },
    "kernelspec": {
      "name": "python3",
      "display_name": "Python 3"
    },
    "language_info": {
      "name": "python"
    }
  },
  "cells": [
    {
      "cell_type": "markdown",
      "metadata": {
        "id": "view-in-github",
        "colab_type": "text"
      },
      "source": [
        "<a href=\"https://colab.research.google.com/github/watanabe0916/Prog2kakushin/blob/main/work1.ipynb\" target=\"_parent\"><img src=\"https://colab.research.google.com/assets/colab-badge.svg\" alt=\"Open In Colab\"/></a>"
      ]
    },
    {
      "cell_type": "markdown",
      "source": [
        "簡単なおみくじを作成する"
      ],
      "metadata": {
        "id": "Yiqig72szdDZ"
      }
    },
    {
      "cell_type": "code",
      "source": [
        "!wget \"https://drive.google.com/uc?export=download&id=1uiaf0QB1yAbuMkiNH1Qap9DFw1JPbV2F\" -O Prog.xlsx"
      ],
      "metadata": {
        "colab": {
          "base_uri": "https://localhost:8080/"
        },
        "id": "G7qijsgJ-kqY",
        "outputId": "f34516ec-fde6-48d9-91a2-855e333ad180"
      },
      "execution_count": 2,
      "outputs": [
        {
          "output_type": "stream",
          "name": "stdout",
          "text": [
            "--2022-12-25 08:09:47--  https://drive.google.com/uc?export=download&id=1uiaf0QB1yAbuMkiNH1Qap9DFw1JPbV2F\n",
            "Resolving drive.google.com (drive.google.com)... 173.194.216.113, 173.194.216.101, 173.194.216.138, ...\n",
            "Connecting to drive.google.com (drive.google.com)|173.194.216.113|:443... connected.\n",
            "HTTP request sent, awaiting response... 303 See Other\n",
            "Location: https://doc-04-0s-docs.googleusercontent.com/docs/securesc/ha0ro937gcuc7l7deffksulhg5h7mbp1/tutgtua48in4tmqhndsdrmjbeqaia3ki/1671955725000/17387039780628892575/*/1uiaf0QB1yAbuMkiNH1Qap9DFw1JPbV2F?e=download&uuid=a92507f2-7411-4de9-ab96-edcd559ad2e8 [following]\n",
            "Warning: wildcards not supported in HTTP.\n",
            "--2022-12-25 08:09:48--  https://doc-04-0s-docs.googleusercontent.com/docs/securesc/ha0ro937gcuc7l7deffksulhg5h7mbp1/tutgtua48in4tmqhndsdrmjbeqaia3ki/1671955725000/17387039780628892575/*/1uiaf0QB1yAbuMkiNH1Qap9DFw1JPbV2F?e=download&uuid=a92507f2-7411-4de9-ab96-edcd559ad2e8\n",
            "Resolving doc-04-0s-docs.googleusercontent.com (doc-04-0s-docs.googleusercontent.com)... 108.177.11.132, 2607:f8b0:400c:c01::84\n",
            "Connecting to doc-04-0s-docs.googleusercontent.com (doc-04-0s-docs.googleusercontent.com)|108.177.11.132|:443... connected.\n",
            "HTTP request sent, awaiting response... 200 OK\n",
            "Length: 12270 (12K) [application/vnd.openxmlformats-officedocument.spreadsheetml.sheet]\n",
            "Saving to: ‘Prog.xlsx’\n",
            "\n",
            "Prog.xlsx           100%[===================>]  11.98K  --.-KB/s    in 0s      \n",
            "\n",
            "2022-12-25 08:09:48 (70.3 MB/s) - ‘Prog.xlsx’ saved [12270/12270]\n",
            "\n"
          ]
        }
      ]
    },
    {
      "cell_type": "code",
      "source": [
        "import random\n",
        "import pandas as pd\n",
        "df=pd.read_excel('Prog.xlsx')\n",
        "l=list(range(6))\n",
        "w = [0.23,0.10,0.13,0.24,0.19,0.11]\n",
        "r=random.choices(l,weights=w)\n",
        "print(*df['kuji'][r])\n",
        "df2=pd.read_excel('Prog.xlsx',sheet_name='Sheet2')\n",
        "l2=list(range(11))\n",
        "s=random.sample(l2,11)\n",
        "for i in range(11):\n",
        "  if i<=10-r[0]*2:\n",
        "    print(df2['内容'][s[i]],df2['〇'][s[i]])\n",
        "  else:\n",
        "    print(df2['内容'][s[i]],df2['×'][s[i]])\n",
        "\n",
        "\n",
        "\n",
        "\n",
        "\n",
        "\n"
      ],
      "metadata": {
        "colab": {
          "base_uri": "https://localhost:8080/"
        },
        "id": "WunPL9XAI9CY",
        "outputId": "8c3586ed-2b0a-4b42-9a5e-11c75f933df0"
      },
      "execution_count": 35,
      "outputs": [
        {
          "output_type": "stream",
          "name": "stdout",
          "text": [
            "末吉\n",
            "待人 来る\n",
            "旅行 してよし\n",
            "交渉 成功\n",
            "金運 悪い\n",
            "転居 待て\n",
            "願望 叶わない\n",
            "恋愛 うまくいかない\n",
            "商売 損する\n",
            "仕事 うまくいかない\n",
            "健康 病気に気をつけよ\n",
            "失物 見つからない\n"
          ]
        }
      ]
    }
  ]
}