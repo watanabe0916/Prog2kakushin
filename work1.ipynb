{
  "nbformat": 4,
  "nbformat_minor": 0,
  "metadata": {
    "colab": {
      "provenance": [],
      "authorship_tag": "ABX9TyPm56ysHm7RJYdO8fZwE/34",
      "include_colab_link": true
    },
    "kernelspec": {
      "name": "python3",
      "display_name": "Python 3"
    },
    "language_info": {
      "name": "python"
    }
  },
  "cells": [
    {
      "cell_type": "markdown",
      "metadata": {
        "id": "view-in-github",
        "colab_type": "text"
      },
      "source": [
        "<a href=\"https://colab.research.google.com/github/watanabe0916/Prog2kakushin/blob/main/work1.ipynb\" target=\"_parent\"><img src=\"https://colab.research.google.com/assets/colab-badge.svg\" alt=\"Open In Colab\"/></a>"
      ]
    },
    {
      "cell_type": "markdown",
      "source": [
        "pandasを用いたプログラムを作成する"
      ],
      "metadata": {
        "id": "Yiqig72szdDZ"
      }
    },
    {
      "cell_type": "code",
      "source": [
        "!wget https://docs.google.com/spreadsheets/d/1uiaf0QB1yAbuMkiNH1Qap9DFw1JPbV2F/edit?usp=share_link&ouid=102778631372774981885&rtpof=true&sd=true"
      ],
      "metadata": {
        "colab": {
          "base_uri": "https://localhost:8080/"
        },
        "id": "G7qijsgJ-kqY",
        "outputId": "0cf0f6a4-194e-4003-c81d-08ba3f1fecb1"
      },
      "execution_count": 171,
      "outputs": [
        {
          "output_type": "stream",
          "name": "stdout",
          "text": [
            "--2022-12-22 08:55:17--  https://docs.google.com/spreadsheets/d/1uiaf0QB1yAbuMkiNH1Qap9DFw1JPbV2F/edit?usp=share_link\n",
            "Resolving docs.google.com (docs.google.com)... 108.177.111.113, 108.177.111.138, 108.177.111.102, ...\n",
            "Connecting to docs.google.com (docs.google.com)|108.177.111.113|:443... connected.\n",
            "HTTP request sent, awaiting response... 200 OK\n",
            "Length: unspecified [text/html]\n",
            "Saving to: ‘edit?usp=share_link’\n",
            "\n",
            "\redit?usp=share_link     [<=>                 ]       0  --.-KB/s               \redit?usp=share_link     [ <=>                ]  16.21K  --.-KB/s    in 0s      \n",
            "\n",
            "2022-12-22 08:55:18 (100 MB/s) - ‘edit?usp=share_link’ saved [16596]\n",
            "\n"
          ]
        }
      ]
    },
    {
      "cell_type": "code",
      "source": [
        "import random\n",
        "import pandas as pd\n",
        "df=pd.read_excel('Prog.xlsx')\n",
        "l=[0,1,2,3,4,5]\n",
        "w = [0.23,0.10,0.13,0.24,0.19,0.11]\n",
        "r=random.choices(l,weights=w)\n",
        "print(*df['kuji'][r])\n",
        "df2=pd.read_excel('Prog.xlsx',sheet_name='Sheet2')\n",
        "l2=list(range(11))\n",
        "s=random.sample(l2,11)\n",
        "for i in range(11):\n",
        "  if i<=10-r[0]*2:\n",
        "    print(df2['内容'][s[i]],df2['〇'][s[i]])\n",
        "  else:\n",
        "    print(df2['内容'][s[i]],df2['×'][s[i]])\n",
        "\n",
        "\n",
        "\n",
        "\n",
        "\n"
      ],
      "metadata": {
        "colab": {
          "base_uri": "https://localhost:8080/"
        },
        "id": "WunPL9XAI9CY",
        "outputId": "39423d44-07ec-40f0-dfa6-beae17b58b57"
      },
      "execution_count": 170,
      "outputs": [
        {
          "output_type": "stream",
          "name": "stdout",
          "text": [
            "末吉\n",
            "金運 良い\n",
            "転居 してよし\n",
            "仕事 うまくいく\n",
            "商売 損する\n",
            "恋愛 うまくいかない\n",
            "健康 病気に気をつけよ\n",
            "交渉 失敗\n",
            "失物 見つからない\n",
            "願望 叶わない\n",
            "旅行 待て\n",
            "待人 来ない\n"
          ]
        }
      ]
    }
  ]
}