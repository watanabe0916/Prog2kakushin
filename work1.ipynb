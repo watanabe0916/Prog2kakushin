{
  "nbformat": 4,
  "nbformat_minor": 0,
  "metadata": {
    "colab": {
      "provenance": [],
      "authorship_tag": "ABX9TyN4bwZuWi3Iw5cuEg+JurPF",
      "include_colab_link": true
    },
    "kernelspec": {
      "name": "python3",
      "display_name": "Python 3"
    },
    "language_info": {
      "name": "python"
    }
  },
  "cells": [
    {
      "cell_type": "markdown",
      "metadata": {
        "id": "view-in-github",
        "colab_type": "text"
      },
      "source": [
        "<a href=\"https://colab.research.google.com/github/watanabe0916/Prog2kakushin/blob/main/work1.ipynb\" target=\"_parent\"><img src=\"https://colab.research.google.com/assets/colab-badge.svg\" alt=\"Open In Colab\"/></a>"
      ]
    },
    {
      "cell_type": "markdown",
      "source": [
        "pandasを用いたプログラムを作成する"
      ],
      "metadata": {
        "id": "Yiqig72szdDZ"
      }
    },
    {
      "cell_type": "code",
      "source": [
        "!wget \"https://drive.google.com/uc?export=download&id=1uiaf0QB1yAbuMkiNH1Qap9DFw1JPbV2F\" -O Prog.xlsx"
      ],
      "metadata": {
        "colab": {
          "base_uri": "https://localhost:8080/"
        },
        "id": "G7qijsgJ-kqY",
        "outputId": "d95392fd-6ceb-4b5a-a877-cdb8033e5800"
      },
      "execution_count": 172,
      "outputs": [
        {
          "output_type": "stream",
          "name": "stdout",
          "text": [
            "--2022-12-22 09:01:06--  https://drive.google.com/uc?export=download&id=1uiaf0QB1yAbuMkiNH1Qap9DFw1JPbV2F\n",
            "Resolving drive.google.com (drive.google.com)... 173.194.198.113, 173.194.198.101, 173.194.198.102, ...\n",
            "Connecting to drive.google.com (drive.google.com)|173.194.198.113|:443... connected.\n",
            "HTTP request sent, awaiting response... 303 See Other\n",
            "Location: https://doc-04-0s-docs.googleusercontent.com/docs/securesc/ha0ro937gcuc7l7deffksulhg5h7mbp1/0oo0v2gpb4506hlo454ebjtu15iq1h5a/1671699600000/17387039780628892575/*/1uiaf0QB1yAbuMkiNH1Qap9DFw1JPbV2F?e=download&uuid=e3085165-4598-499c-95fb-66aa8d1dce23 [following]\n",
            "Warning: wildcards not supported in HTTP.\n",
            "--2022-12-22 09:01:07--  https://doc-04-0s-docs.googleusercontent.com/docs/securesc/ha0ro937gcuc7l7deffksulhg5h7mbp1/0oo0v2gpb4506hlo454ebjtu15iq1h5a/1671699600000/17387039780628892575/*/1uiaf0QB1yAbuMkiNH1Qap9DFw1JPbV2F?e=download&uuid=e3085165-4598-499c-95fb-66aa8d1dce23\n",
            "Resolving doc-04-0s-docs.googleusercontent.com (doc-04-0s-docs.googleusercontent.com)... 209.85.147.132, 2607:f8b0:4001:c20::84\n",
            "Connecting to doc-04-0s-docs.googleusercontent.com (doc-04-0s-docs.googleusercontent.com)|209.85.147.132|:443... connected.\n",
            "HTTP request sent, awaiting response... 200 OK\n",
            "Length: 12270 (12K) [application/vnd.openxmlformats-officedocument.spreadsheetml.sheet]\n",
            "Saving to: ‘Prog.xlsx’\n",
            "\n",
            "Prog.xlsx           100%[===================>]  11.98K  --.-KB/s    in 0s      \n",
            "\n",
            "2022-12-22 09:01:08 (85.1 MB/s) - ‘Prog.xlsx’ saved [12270/12270]\n",
            "\n"
          ]
        }
      ]
    },
    {
      "cell_type": "code",
      "source": [
        "import random\n",
        "import pandas as pd\n",
        "df=pd.read_excel('Prog.xlsx')\n",
        "l=[0,1,2,3,4,5]\n",
        "w = [0.23,0.10,0.13,0.24,0.19,0.11]\n",
        "r=random.choices(l,weights=w)\n",
        "print(*df['kuji'][r])\n",
        "df2=pd.read_excel('Prog.xlsx',sheet_name='Sheet2')\n",
        "l2=list(range(11))\n",
        "s=random.sample(l2,11)\n",
        "for i in range(11):\n",
        "  if i<=10-r[0]*2:\n",
        "    print(df2['内容'][s[i]],df2['〇'][s[i]])\n",
        "  else:\n",
        "    print(df2['内容'][s[i]],df2['×'][s[i]])\n",
        "\n",
        "\n",
        "\n",
        "\n",
        "\n"
      ],
      "metadata": {
        "colab": {
          "base_uri": "https://localhost:8080/"
        },
        "id": "WunPL9XAI9CY",
        "outputId": "39423d44-07ec-40f0-dfa6-beae17b58b57"
      },
      "execution_count": 170,
      "outputs": [
        {
          "output_type": "stream",
          "name": "stdout",
          "text": [
            "末吉\n",
            "金運 良い\n",
            "転居 してよし\n",
            "仕事 うまくいく\n",
            "商売 損する\n",
            "恋愛 うまくいかない\n",
            "健康 病気に気をつけよ\n",
            "交渉 失敗\n",
            "失物 見つからない\n",
            "願望 叶わない\n",
            "旅行 待て\n",
            "待人 来ない\n"
          ]
        }
      ]
    }
  ]
}